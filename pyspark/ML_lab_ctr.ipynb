{
  "cells": [
    {
      "cell_type": "markdown",
      "metadata": {
        "id": "ZN9mN-hb1CC3"
      },
      "source": [
        "![ML Logo](http://spark-mooc.github.io/web-assets/images/CS190.1x_Banner_300.png)\n",
        "# **Click-Through Rate Prediction Lab**\n",
        "#### This lab covers the steps for creating a click-through rate (CTR) prediction pipeline.  You will work with the [Criteo Labs](http://labs.criteo.com/) dataset that was used for a recent [Kaggle competition](https://www.kaggle.com/c/criteo-display-ad-challenge).\n",
        "#### ** This lab will cover: **\n",
        "+  ####*Part 1:* Featurize categorical data using one-hot-encoding (OHE)\n",
        "+  ####*Part 2:* Construct an OHE dictionary\n",
        "+  ####*Part 3:* Parse CTR data and generate OHE features\n",
        " + #### *Visualization 1:* Feature frequency\n",
        "+  ####*Part 4:* CTR prediction and logloss evaluation\n",
        " + #### *Visualization 2:* ROC curve\n",
        "+  ####*Part 5:* Reduce feature dimension via feature hashing\n",
        " + #### *Visualization 3:* Hyperparameter heat map\n",
        " \n",
        "#### Note that, for reference, you can look up the details of the relevant Spark methods in [Spark's Python API](https://spark.apache.org/docs/latest/api/python/pyspark.html#pyspark.RDD) and the relevant NumPy methods in the [NumPy Reference](http://docs.scipy.org/doc/numpy/reference/index.html)"
      ]
    },
    {
      "cell_type": "code",
      "execution_count": 1,
      "metadata": {
        "colab": {
          "base_uri": "https://localhost:8080/"
        },
        "id": "KxAewYD21CC9",
        "outputId": "26f598da-749f-4f43-815b-56f2a0d8bd8a"
      },
      "outputs": [
        {
          "output_type": "stream",
          "name": "stdout",
          "text": [
            "Reading package lists... Done\n",
            "Building dependency tree       \n",
            "Reading state information... Done\n",
            "Suggested packages:\n",
            "  libnss-mdns fonts-dejavu-extra fonts-ipafont-gothic fonts-ipafont-mincho\n",
            "  fonts-wqy-microhei fonts-wqy-zenhei fonts-indic\n",
            "The following NEW packages will be installed:\n",
            "  openjdk-8-jre-headless\n",
            "0 upgraded, 1 newly installed, 0 to remove and 39 not upgraded.\n",
            "Need to get 28.2 MB of archives.\n",
            "After this operation, 104 MB of additional disk space will be used.\n",
            "Get:1 http://archive.ubuntu.com/ubuntu bionic-updates/universe amd64 openjdk-8-jre-headless amd64 8u312-b07-0ubuntu1~18.04 [28.2 MB]\n",
            "Fetched 28.2 MB in 3s (10.6 MB/s)\n",
            "Selecting previously unselected package openjdk-8-jre-headless:amd64.\n",
            "(Reading database ... 156210 files and directories currently installed.)\n",
            "Preparing to unpack .../openjdk-8-jre-headless_8u312-b07-0ubuntu1~18.04_amd64.deb ...\n",
            "Unpacking openjdk-8-jre-headless:amd64 (8u312-b07-0ubuntu1~18.04) ...\n",
            "Setting up openjdk-8-jre-headless:amd64 (8u312-b07-0ubuntu1~18.04) ...\n",
            "update-alternatives: using /usr/lib/jvm/java-8-openjdk-amd64/jre/bin/orbd to provide /usr/bin/orbd (orbd) in auto mode\n",
            "update-alternatives: using /usr/lib/jvm/java-8-openjdk-amd64/jre/bin/servertool to provide /usr/bin/servertool (servertool) in auto mode\n",
            "update-alternatives: using /usr/lib/jvm/java-8-openjdk-amd64/jre/bin/tnameserv to provide /usr/bin/tnameserv (tnameserv) in auto mode\n",
            "Collecting pyspark\n",
            "  Downloading pyspark-3.2.1.tar.gz (281.4 MB)\n",
            "\u001b[K     |████████████████████████████████| 281.4 MB 38 kB/s \n",
            "\u001b[?25hCollecting py4j==0.10.9.3\n",
            "  Downloading py4j-0.10.9.3-py2.py3-none-any.whl (198 kB)\n",
            "\u001b[K     |████████████████████████████████| 198 kB 45.8 MB/s \n",
            "\u001b[?25hBuilding wheels for collected packages: pyspark\n",
            "  Building wheel for pyspark (setup.py) ... \u001b[?25l\u001b[?25hdone\n",
            "  Created wheel for pyspark: filename=pyspark-3.2.1-py2.py3-none-any.whl size=281853642 sha256=e8b259b95fc9b7cbd1076524fd92f3a530b8d0eaeb39df8bf453a5cd5a6b1eb0\n",
            "  Stored in directory: /root/.cache/pip/wheels/9f/f5/07/7cd8017084dce4e93e84e92efd1e1d5334db05f2e83bcef74f\n",
            "Successfully built pyspark\n",
            "Installing collected packages: py4j, pyspark\n",
            "Successfully installed py4j-0.10.9.3 pyspark-3.2.1\n",
            "Mounted at /content/drive\n"
          ]
        }
      ],
      "source": [
        "!apt-get -y install openjdk-8-jre-headless\n",
        "!pip install pyspark\n",
        "from pyspark import SparkContext, SparkConf\n",
        "conf = SparkConf().setMaster(\"local[*]\").setAppName(\"myproject\")\n",
        "sc = SparkContext.getOrCreate(conf=conf)\n",
        "import os\n",
        "from google.colab import drive\n",
        "drive.mount('/content/drive')\n",
        "os.chdir('/content/drive/My Drive/spark')\n",
        "from test_helper import Test"
      ]
    },
    {
      "cell_type": "markdown",
      "metadata": {
        "id": "T2U0ItfQ1CC-"
      },
      "source": [
        "### ** Part 1: Featurize categorical data using one-hot-encoding **"
      ]
    },
    {
      "cell_type": "markdown",
      "metadata": {
        "id": "Up9ASUQI1CC_"
      },
      "source": [
        "#### ** (1a) One-hot-encoding **\n",
        "#### We would like to develop code to convert categorical features to numerical ones, and to build intuition, we will work with a sample unlabeled dataset with three data points, with each data point representing an animal. The first feature indicates the type of animal (bear, cat, mouse); the second feature describes the animal's color (black, tabby); and the third (optional) feature describes what the animal eats (mouse, salmon).\n",
        "#### In a one-hot-encoding (OHE) scheme, we want to represent each tuple of `(featureID, category)` via its own binary feature.  We can do this in Python by creating a dictionary that maps each tuple to a distinct integer, where the integer corresponds to a binary feature. To start, manually enter the entries in the OHE dictionary associated with the sample dataset by mapping the tuples to consecutive integers starting from zero,  ordering the tuples first by featureID and next by category.\n",
        "#### Later in this lab, we'll use OHE dictionaries to transform data points into compact lists of features that can be used in machine learning algorithms."
      ]
    },
    {
      "cell_type": "code",
      "execution_count": 2,
      "metadata": {
        "colab": {
          "base_uri": "https://localhost:8080/"
        },
        "id": "w2IiiJa71CDA",
        "outputId": "70a72da5-a900-4365-998a-e3f0e35dc523"
      },
      "outputs": [
        {
          "output_type": "stream",
          "name": "stdout",
          "text": [
            "[[(0, 'mouse'), (1, 'black')], [(0, 'cat'), (1, 'tabby'), (2, 'mouse')], [(0, 'bear'), (1, 'black'), (2, 'salmon')]]\n"
          ]
        }
      ],
      "source": [
        "# Data for manual OHE\n",
        "# Note: the first data point does not include any value for the optional third feature\n",
        "sampleOne = [(0, 'mouse'), (1, 'black')]\n",
        "sampleTwo = [(0, 'cat'), (1, 'tabby'), (2, 'mouse')]\n",
        "sampleThree =  [(0, 'bear'), (1, 'black'), (2, 'salmon')]\n",
        "sampleDataRDD = sc.parallelize([sampleOne, sampleTwo, sampleThree])\n",
        "print(sampleDataRDD.collect())"
      ]
    },
    {
      "cell_type": "code",
      "execution_count": 3,
      "metadata": {
        "id": "cFdFIZdK1CDA"
      },
      "outputs": [],
      "source": [
        "# TODO: Replace <FILL IN> with appropriate code\n",
        "sampleOHEDictManual = {}\n",
        "sampleOHEDictManual[(0,'bear')] = 0 \n",
        "sampleOHEDictManual[(0,'cat')] = 1\n",
        "sampleOHEDictManual[(0,'mouse')] = 2\n",
        "sampleOHEDictManual[(1, 'black')] = 3\n",
        "sampleOHEDictManual[(1, 'tabby')] = 4\n",
        "sampleOHEDictManual[(2, 'mouse')] = 5\n",
        "sampleOHEDictManual[(2, 'salmon')] = 6"
      ]
    },
    {
      "cell_type": "markdown",
      "metadata": {
        "id": "LHtI1p791CDC"
      },
      "source": [
        "#### ** (1b) Sparse vectors **\n",
        "#### Data points can typically be represented with a small number of non-zero OHE features relative to the total number of features that occur in the dataset.  By leveraging this sparsity and using sparse vector representations of OHE data, we can reduce storage and computational burdens.  Below are a few sample vectors represented as dense numpy arrays.  Use [SparseVector](https://spark.apache.org/docs/latest/api/python/pyspark.mllib.html#pyspark.mllib.linalg.SparseVector) to represent them in a sparse fashion, and verify that both the sparse and dense representations yield the same results when computing [dot products](http://en.wikipedia.org/wiki/Dot_product) (we will later use MLlib to train classifiers via gradient descent, and MLlib will need to compute dot products between SparseVectors and dense parameter vectors).\n",
        "#### Use `SparseVector(size, *args)` to create a new sparse vector where size is the length of the vector and args is either a dictionary, a list of (index, value) pairs, or two separate arrays of indices and values (sorted by index).  You'll need to create a sparse vector representation of each dense vector `aDense` and `bDense`."
      ]
    },
    {
      "cell_type": "code",
      "execution_count": 4,
      "metadata": {
        "id": "bxmelh4N1CDD"
      },
      "outputs": [],
      "source": [
        "import numpy as np\n",
        "from pyspark.mllib.linalg import SparseVector"
      ]
    },
    {
      "cell_type": "code",
      "execution_count": 5,
      "metadata": {
        "id": "cjlFy5851CDE",
        "colab": {
          "base_uri": "https://localhost:8080/"
        },
        "outputId": "b3ecbfdc-06a7-44e2-bab3-9cdfaf1afb01"
      },
      "outputs": [
        {
          "output_type": "stream",
          "name": "stdout",
          "text": [
            "7.300000000000001\n",
            "7.300000000000001\n",
            "-0.5\n",
            "-0.5\n"
          ]
        }
      ],
      "source": [
        "# TODO: Replace <FILL IN> with appropriate code\n",
        "aDense = np.array([0., 3., 0., 4.])\n",
        "aSparse = SparseVector(4, [1, 3], [3.0, 4.0])\n",
        "\n",
        "bDense = np.array([0., 0., 0., 1.])\n",
        "bSparse = SparseVector(4, [3], [1])\n",
        "\n",
        "w = np.array([0.4, 3.1, -1.4, -.5])\n",
        "print (aDense.dot(w))\n",
        "print (aSparse.dot(w))\n",
        "print (bDense.dot(w))\n",
        "print (bSparse.dot(w))"
      ]
    },
    {
      "cell_type": "code",
      "execution_count": 6,
      "metadata": {
        "id": "iFRKmDd61CDE",
        "colab": {
          "base_uri": "https://localhost:8080/"
        },
        "outputId": "43054a14-dbf1-4b03-a06f-f16030c5dc0e"
      },
      "outputs": [
        {
          "output_type": "stream",
          "name": "stdout",
          "text": [
            "1 test passed.\n",
            "1 test passed.\n",
            "1 test passed.\n",
            "1 test passed.\n"
          ]
        }
      ],
      "source": [
        "# TEST Sparse Vectors (1b)\n",
        "Test.assertTrue(isinstance(aSparse, SparseVector), 'aSparse needs to be an instance of SparseVector')\n",
        "Test.assertTrue(isinstance(bSparse, SparseVector), 'aSparse needs to be an instance of SparseVector')\n",
        "Test.assertTrue(aDense.dot(w) == aSparse.dot(w),\n",
        "                'dot product of aDense and w should equal dot product of aSparse and w')\n",
        "Test.assertTrue(bDense.dot(w) == bSparse.dot(w),\n",
        "                'dot product of bDense and w should equal dot product of bSparse and w')"
      ]
    },
    {
      "cell_type": "markdown",
      "metadata": {
        "id": "l1r_SqOR1CDF"
      },
      "source": [
        "#### **(1c) OHE features as sparse vectors **\n",
        "#### Now let's see how we can represent the OHE features for points in our sample dataset.  Using the mapping defined by the OHE dictionary from Part (1a), manually define OHE features for the three sample data points using SparseVector format.  Any feature that occurs in a point should have the value 1.0.  For example, the `DenseVector` for a point with features 2 and 4 would be `[0.0, 0.0, 1.0, 0.0, 1.0, 0.0, 0.0]`."
      ]
    },
    {
      "cell_type": "code",
      "execution_count": 7,
      "metadata": {
        "id": "-QvDb1nO1CDF",
        "colab": {
          "base_uri": "https://localhost:8080/"
        },
        "outputId": "d5d6e0b7-b097-4579-f1a0-45c59720deb6"
      },
      "outputs": [
        {
          "output_type": "stream",
          "name": "stdout",
          "text": [
            "{(0, 'bear'): 0, (0, 'cat'): 1, (0, 'mouse'): 2, (1, 'black'): 3, (1, 'tabby'): 4, (2, 'mouse'): 5, (2, 'salmon'): 6}\n"
          ]
        }
      ],
      "source": [
        "# Reminder of the sample features\n",
        "# sampleOne = [(0, 'mouse'), (1, 'black')]\n",
        "# sampleTwo = [(0, 'cat'), (1, 'tabby'), (2, 'mouse')]\n",
        "# sampleThree =  [(0, 'bear'), (1, 'black'), (2, 'salmon')]\n",
        "print(sampleOHEDictManual)"
      ]
    },
    {
      "cell_type": "code",
      "execution_count": 8,
      "metadata": {
        "id": "14jBiDZ51CDG"
      },
      "outputs": [],
      "source": [
        "# TODO: Replace <FILL IN> with appropriate code\n",
        "sampleOneOHEFeatManual = SparseVector(7, [2,3], [1,1])\n",
        "sampleTwoOHEFeatManual = SparseVector(7, [1,4,5], [1,1,1])\n",
        "sampleThreeOHEFeatManual = SparseVector(7, [0,3,6], [1,1,1])"
      ]
    },
    {
      "cell_type": "code",
      "execution_count": 9,
      "metadata": {
        "id": "ZstshITo1CDG",
        "colab": {
          "base_uri": "https://localhost:8080/"
        },
        "outputId": "5c3863d7-e059-4372-b009-081f38e2608c"
      },
      "outputs": [
        {
          "output_type": "stream",
          "name": "stdout",
          "text": [
            "1 test passed.\n",
            "1 test passed.\n",
            "1 test passed.\n"
          ]
        }
      ],
      "source": [
        "# TEST OHE Features as sparse vectors (1c)\n",
        "Test.assertTrue(isinstance(sampleOneOHEFeatManual, SparseVector),\n",
        "                'sampleOneOHEFeatManual needs to be a SparseVector')\n",
        "Test.assertTrue(isinstance(sampleTwoOHEFeatManual, SparseVector),\n",
        "                'sampleTwoOHEFeatManual needs to be a SparseVector')\n",
        "Test.assertTrue(isinstance(sampleThreeOHEFeatManual, SparseVector),\n",
        "                'sampleThreeOHEFeatManual needs to be a SparseVector')"
      ]
    },
    {
      "cell_type": "markdown",
      "metadata": {
        "id": "bu4ev9D-1CDG"
      },
      "source": [
        "#### **(1d) Define a OHE function **\n",
        "#### Next we will use the OHE dictionary from Part (1a) to programatically generate OHE features from the original categorical data.  First write a function called `oneHotEncoding` that creates OHE feature vectors in `SparseVector` format.  Then use this function to create OHE features for the first sample data point and verify that the result matches the result from Part (1c)."
      ]
    },
    {
      "cell_type": "code",
      "execution_count": 10,
      "metadata": {
        "id": "2ZK-BP2H1CDH",
        "colab": {
          "base_uri": "https://localhost:8080/"
        },
        "outputId": "01d9970b-9df2-424a-e2b4-236c0674613f"
      },
      "outputs": [
        {
          "output_type": "stream",
          "name": "stdout",
          "text": [
            "(7,[2,3],[1.0,1.0])\n"
          ]
        }
      ],
      "source": [
        "# TODO: Replace <FILL IN> with appropriate code\n",
        "def oneHotEncoding(rawFeats, OHEDict, numOHEFeats):\n",
        "    \"\"\"Produce a one-hot-encoding from a list of features and an OHE dictionary.\n",
        "\n",
        "    Note:\n",
        "        You should ensure that the indices used to create a SparseVector are sorted.\n",
        "\n",
        "    Args:\n",
        "        rawFeats (list of (int, str)): The features corresponding to a single observation.  Each\n",
        "            feature consists of a tuple of featureID and the feature's value. (e.g. sampleOne)\n",
        "        OHEDict (dict): A mapping of (featureID, value) to unique integer.\n",
        "        numOHEFeats (int): The total number of unique OHE features (combinations of featureID and\n",
        "            value).\n",
        "\n",
        "    Returns:\n",
        "        SparseVector: A SparseVector of length numOHEFeats with indicies equal to the unique\n",
        "            identifiers for the (featureID, value) combinations that occur in the observation and\n",
        "            with values equal to 1.0.\n",
        "    \"\"\"\n",
        "    answer = []\n",
        "    for data in rawFeats:\n",
        "      answer.append(OHEDict[data])\n",
        "    return SparseVector(numOHEFeats,sorted(answer), [1]*len(answer))\n",
        "\n",
        "\n",
        "# Calculate the number of features in sampleOHEDictManual\n",
        "numSampleOHEFeats = len(sampleOHEDictManual)\n",
        "\n",
        "# Run oneHotEnoding on sampleOne\n",
        "sampleOneOHEFeat = oneHotEncoding(sampleOne,sampleOHEDictManual,numSampleOHEFeats)\n",
        "\n",
        "print (sampleOneOHEFeat)"
      ]
    },
    {
      "cell_type": "code",
      "execution_count": 11,
      "metadata": {
        "id": "M8m7jMLX1CDH",
        "colab": {
          "base_uri": "https://localhost:8080/"
        },
        "outputId": "879c5594-2799-4547-b103-d67d568842c2"
      },
      "outputs": [
        {
          "output_type": "stream",
          "name": "stdout",
          "text": [
            "1 test passed.\n",
            "1 test passed.\n",
            "1 test passed.\n"
          ]
        }
      ],
      "source": [
        "# TEST Define an OHE Function (1d)\n",
        "Test.assertTrue(sampleOneOHEFeat == sampleOneOHEFeatManual,\n",
        "                'sampleOneOHEFeat should equal sampleOneOHEFeatManual')\n",
        "Test.assertEquals(sampleOneOHEFeat, SparseVector(7, [2,3], [1.0,1.0]),\n",
        "                  'incorrect value for sampleOneOHEFeat')\n",
        "Test.assertEquals(oneHotEncoding([(1, 'black'), (0, 'mouse')], sampleOHEDictManual,numSampleOHEFeats), SparseVector(7, [2,3], [1.0,1.0]),'incorrect definition for oneHotEncoding')"
      ]
    },
    {
      "cell_type": "markdown",
      "metadata": {
        "id": "thjroF9-1CDH"
      },
      "source": [
        "#### **(1e) Apply OHE to a dataset **\n",
        "#### Finally, use the function from Part (1d) to create OHE features for all 3 data points in the sample dataset."
      ]
    },
    {
      "cell_type": "code",
      "execution_count": 12,
      "metadata": {
        "id": "Z7Mx5MR_1CDI",
        "colab": {
          "base_uri": "https://localhost:8080/"
        },
        "outputId": "893e04eb-1002-481b-b16d-eee0903c2b7e"
      },
      "outputs": [
        {
          "output_type": "stream",
          "name": "stdout",
          "text": [
            "[SparseVector(7, {2: 1.0, 3: 1.0}), SparseVector(7, {1: 1.0, 4: 1.0, 5: 1.0}), SparseVector(7, {0: 1.0, 3: 1.0, 6: 1.0})]\n"
          ]
        }
      ],
      "source": [
        "# TODO: Replace <FILL IN> with appropriate code\n",
        "sampleOHEData = sampleDataRDD.map(lambda x:oneHotEncoding(x,sampleOHEDictManual,numSampleOHEFeats))\n",
        "print (sampleOHEData.collect())"
      ]
    },
    {
      "cell_type": "code",
      "execution_count": 13,
      "metadata": {
        "id": "up_iXk8L1CDI",
        "colab": {
          "base_uri": "https://localhost:8080/"
        },
        "outputId": "03facca5-8034-4496-8fb8-b5cb5e9dadcd"
      },
      "outputs": [
        {
          "output_type": "stream",
          "name": "stdout",
          "text": [
            "1 test passed.\n",
            "1 test passed.\n",
            "1 test passed.\n",
            "1 test passed.\n"
          ]
        }
      ],
      "source": [
        "# TEST Apply OHE to a dataset (1e)\n",
        "sampleOHEDataValues = sampleOHEData.collect()\n",
        "Test.assertTrue(len(sampleOHEDataValues) == 3, 'sampleOHEData should have three elements')\n",
        "Test.assertEquals(sampleOHEDataValues[0], SparseVector(7, {2: 1.0, 3: 1.0}),\n",
        "                  'incorrect OHE for first sample')\n",
        "Test.assertEquals(sampleOHEDataValues[1], SparseVector(7, {1: 1.0, 4: 1.0, 5: 1.0}),\n",
        "                  'incorrect OHE for second sample')\n",
        "Test.assertEquals(sampleOHEDataValues[2], SparseVector(7, {0: 1.0, 3: 1.0, 6: 1.0}),\n",
        "                  'incorrect OHE for third sample')"
      ]
    },
    {
      "cell_type": "markdown",
      "metadata": {
        "id": "O3XwMC661CDI"
      },
      "source": [
        "### ** Part 2: Construct an OHE dictionary **"
      ]
    },
    {
      "cell_type": "markdown",
      "metadata": {
        "id": "aMXV-JPn1CDJ"
      },
      "source": [
        "#### **(2a) Pair RDD of `(featureID, category)` **\n",
        "#### To start, create an RDD of distinct `(featureID, category)` tuples. In our sample dataset, the 7 items in the resulting RDD are `(0, 'bear')`, `(0, 'cat')`, `(0, 'mouse')`, `(1, 'black')`, `(1, 'tabby')`, `(2, 'mouse')`, `(2, 'salmon')`. Notably `'black'` appears twice in the dataset but only contributes one item to the RDD: `(1, 'black')`, while `'mouse'` also appears twice and contributes two items: `(0, 'mouse')` and `(2, 'mouse')`.  Use [flatMap](https://spark.apache.org/docs/latest/api/python/pyspark.html#pyspark.RDD.flatMap) and [distinct](https://spark.apache.org/docs/latest/api/python/pyspark.html#pyspark.RDD.distinct)."
      ]
    },
    {
      "cell_type": "code",
      "execution_count": 14,
      "metadata": {
        "id": "DQYi_VTx1CDJ"
      },
      "outputs": [],
      "source": [
        "# TODO: Replace <FILL IN> with appropriate code\n",
        "sampleDistinctFeats = (sampleDataRDD\n",
        "                      .flatMap(lambda x:x).distinct())"
      ]
    },
    {
      "cell_type": "code",
      "execution_count": 15,
      "metadata": {
        "id": "Puf3DoYb1CDJ",
        "colab": {
          "base_uri": "https://localhost:8080/"
        },
        "outputId": "37db3f3e-c925-4ff8-9801-0c0d5e48e2ac"
      },
      "outputs": [
        {
          "output_type": "stream",
          "name": "stdout",
          "text": [
            "1 test passed.\n"
          ]
        }
      ],
      "source": [
        "# TEST Pair RDD of (featureID, category) (2a)\n",
        "Test.assertEquals(sorted(sampleDistinctFeats.collect()),\n",
        "                  [(0, 'bear'), (0, 'cat'), (0, 'mouse'), (1, 'black'),\n",
        "                   (1, 'tabby'), (2, 'mouse'), (2, 'salmon')],\n",
        "                  'incorrect value for sampleDistinctFeats')"
      ]
    },
    {
      "cell_type": "markdown",
      "metadata": {
        "id": "KkD2-DtV1CDJ"
      },
      "source": [
        "#### ** (2b) OHE Dictionary from distinct features **\n",
        "#### Next, create an `RDD` of key-value tuples, where each `(featureID, category)` tuple in `sampleDistinctFeats` is a key and the values are distinct integers ranging from 0 to (number of keys - 1).  Then convert this `RDD` into a dictionary, which can be done using the `collectAsMap` action.  Note that there is no unique mapping from keys to values, as all we require is that each `(featureID, category)` key be mapped to a unique integer between 0 and the number of keys.  In this exercise, any valid mapping is acceptable.  Use [zipWithIndex](https://spark.apache.org/docs/latest/api/python/pyspark.html#pyspark.RDD.zipWithIndex) followed by [collectAsMap](https://spark.apache.org/docs/latest/api/python/pyspark.html#pyspark.RDD.collectAsMap).\n",
        "#### In our sample dataset, one valid list of key-value tuples is: `[((0, 'bear'), 0), ((2, 'salmon'), 1), ((1, 'tabby'), 2), ((2, 'mouse'), 3), ((0, 'mouse'), 4), ((0, 'cat'), 5), ((1, 'black'), 6)]`. The dictionary defined in Part (1a) illustrates another valid mapping between keys and integers."
      ]
    },
    {
      "cell_type": "code",
      "execution_count": 16,
      "metadata": {
        "id": "qzIJXvqg1CDK",
        "colab": {
          "base_uri": "https://localhost:8080/"
        },
        "outputId": "11e01539-5f84-4b7f-fde0-d28c3f4ce625"
      },
      "outputs": [
        {
          "output_type": "stream",
          "name": "stdout",
          "text": [
            "{(0, 'mouse'): 0, (1, 'black'): 1, (0, 'cat'): 2, (1, 'tabby'): 3, (2, 'mouse'): 4, (0, 'bear'): 5, (2, 'salmon'): 6}\n"
          ]
        }
      ],
      "source": [
        "# TODO: Replace <FILL IN> with appropriate code\n",
        "sampleOHEDict = (sampleDistinctFeats\n",
        "                    .zipWithIndex().collectAsMap())\n",
        "print (sampleOHEDict)"
      ]
    },
    {
      "cell_type": "code",
      "execution_count": 17,
      "metadata": {
        "id": "_8TE65du1CDK",
        "colab": {
          "base_uri": "https://localhost:8080/"
        },
        "outputId": "b6d55e9b-424d-49bf-9e0d-f688787f2541"
      },
      "outputs": [
        {
          "output_type": "stream",
          "name": "stdout",
          "text": [
            "1 test passed.\n",
            "1 test passed.\n"
          ]
        }
      ],
      "source": [
        "# TEST OHE Dictionary from distinct features (2b)\n",
        "Test.assertEquals(sorted(sampleOHEDict.keys()),\n",
        "                  [(0, 'bear'), (0, 'cat'), (0, 'mouse'), (1, 'black'),\n",
        "                   (1, 'tabby'), (2, 'mouse'), (2, 'salmon')],\n",
        "                  'sampleOHEDict has unexpected keys')\n",
        "Test.assertEquals(sorted(sampleOHEDict.values()), list(range(7)), 'sampleOHEDict has unexpected values')"
      ]
    },
    {
      "cell_type": "markdown",
      "metadata": {
        "id": "8txu4o431CDK"
      },
      "source": [
        "#### **(2c) Automated creation of an OHE dictionary **\n",
        "#### Now use the code from Parts (2a) and (2b) to write a function that takes an input dataset and outputs an OHE dictionary.  Then use this function to create an OHE dictionary for the sample dataset, and verify that it matches the dictionary from Part (2b)."
      ]
    },
    {
      "cell_type": "code",
      "execution_count": 18,
      "metadata": {
        "id": "LT9RbeTS1CDK",
        "colab": {
          "base_uri": "https://localhost:8080/"
        },
        "outputId": "1c564e02-4eff-4fe0-c09c-1062828c2566"
      },
      "outputs": [
        {
          "output_type": "stream",
          "name": "stdout",
          "text": [
            "{(0, 'mouse'): 0, (1, 'black'): 1, (0, 'cat'): 2, (1, 'tabby'): 3, (2, 'mouse'): 4, (0, 'bear'): 5, (2, 'salmon'): 6}\n"
          ]
        }
      ],
      "source": [
        "# TODO: Replace <FILL IN> with appropriate code\n",
        "def createOneHotDict(inputData):\n",
        "    \"\"\"Creates a one-hot-encoder dictionary based on the input data.\n",
        "\n",
        "    Args:\n",
        "        inputData (RDD of lists of (int, str)): An RDD of observations where each observation is\n",
        "            made up of a list of (featureID, value) tuples.\n",
        "\n",
        "    Returns:\n",
        "        dict: A dictionary where the keys are (featureID, value) tuples and map to values that are\n",
        "            unique integers.\n",
        "    \"\"\"\n",
        "    OHEDict  = inputData.flatMap(lambda x:x).distinct().zipWithIndex().collectAsMap()\n",
        "    return OHEDict\n",
        "sampleOHEDictAuto = createOneHotDict(sampleDataRDD)\n",
        "print (sampleOHEDictAuto)"
      ]
    },
    {
      "cell_type": "code",
      "execution_count": 19,
      "metadata": {
        "id": "wu0OaDWA1CDK",
        "colab": {
          "base_uri": "https://localhost:8080/"
        },
        "outputId": "53e5486f-d3aa-488c-eeb0-fb0d7fb46818"
      },
      "outputs": [
        {
          "output_type": "stream",
          "name": "stdout",
          "text": [
            "1 test passed.\n",
            "1 test passed.\n"
          ]
        }
      ],
      "source": [
        "# TEST Automated creation of an OHE dictionary (2c)\n",
        "Test.assertEquals(sorted(sampleOHEDictAuto.keys()),\n",
        "                  [(0, 'bear'), (0, 'cat'), (0, 'mouse'), (1, 'black'),\n",
        "                   (1, 'tabby'), (2, 'mouse'), (2, 'salmon')],\n",
        "                  'sampleOHEDictAuto has unexpected keys')\n",
        "Test.assertEquals(sorted(sampleOHEDictAuto.values()), list(range(7)),\n",
        "                  'sampleOHEDictAuto has unexpected values')"
      ]
    },
    {
      "cell_type": "markdown",
      "metadata": {
        "id": "UhSbAXDd1CDL"
      },
      "source": [
        "### **Part 3: Parse CTR data and generate OHE features**"
      ]
    },
    {
      "cell_type": "markdown",
      "metadata": {
        "id": "i8K746pi1CDL"
      },
      "source": [
        "#### Before we can proceed, you'll first need to obtain the data from Criteo.  If you have already completed this step in the setup lab, just run the cells below and the data will be loaded into the `rawData` variable.\n",
        "#### Below is Criteo's data sharing agreement.  After you accept the agreement, you can obtain the download URL by right-clicking on the \"Download Sample\" button and clicking \"Copy link address\" or \"Copy Link Location\", depending on your browser.  Paste the URL into the `# TODO` cell below.  The file is 8.4 MB compressed.  The script below will download the file to the virtual machine (VM) and then extract the data.\n",
        "#### If running the cell below does not render a webpage, open the [Criteo agreement](http://labs.criteo.com/downloads/2014-kaggle-display-advertising-challenge-dataset/) in a separate browser tab.  After you accept the agreement, you can obtain the download URL by right-clicking on the \"Download Sample\" button and clicking \"Copy link address\" or \"Copy Link Location\", depending on your browser.  Paste the URL into the `# TODO` cell below.\n",
        "#### Note that the download could take a few minutes, depending upon your connection speed."
      ]
    },
    {
      "cell_type": "code",
      "execution_count": 20,
      "metadata": {
        "id": "Z48RQcd11CDL"
      },
      "outputs": [],
      "source": [
        "# Run this code to view Criteo's agreement\n",
        "#from IPython.lib.display import IFrame\n",
        "\n",
        "#IFrame(\"http://labs.criteo.com/downloads/2014-kaggle-display-advertising-challenge-dataset/\",\n",
        "#       600, 350)"
      ]
    },
    {
      "cell_type": "code",
      "execution_count": 21,
      "metadata": {
        "id": "FRZSshn31CDM",
        "colab": {
          "base_uri": "https://localhost:8080/"
        },
        "outputId": "3285d5c9-2b5f-4452-bf38-627b4c1dce4e"
      },
      "outputs": [
        {
          "output_type": "stream",
          "name": "stdout",
          "text": [
            "['0,1,1,5,0,1382,4,15,2,181,1,2,,2,68fd1e64,80e26c9b,fb936136,7b4723c4,25c83c98,7e0ccccf,de7995b8,1f89b562,a73ee510,a8cd5504,b2cb9c98,37c9c164,2824a5f6,1adce6ef,8ba8b39a,891b62e7,e5ba7672,f54016b9,21ddcdc9,b1252a9d,07b5194c,,3a171ecb,c5c50484,e8b83407,9727dd16']\n"
          ]
        }
      ],
      "source": [
        "import os.path\n",
        "baseDir = os.getcwd()\n",
        "inputPath =  'dac_sample.txt'\n",
        "fileName = os.path.join(baseDir, inputPath)\n",
        "\n",
        "if os.path.isfile(fileName):\n",
        "    rawData = (sc\n",
        "               .textFile(fileName, 2)\n",
        "               .map(lambda x: x.replace('\\t', ',')))  # work with either ',' or '\\t' separated data\n",
        "    print (rawData.take(1))"
      ]
    },
    {
      "cell_type": "markdown",
      "metadata": {
        "id": "UY-SjaUW1CDM"
      },
      "source": [
        "#### **(3a) Loading and splitting the data **\n",
        "#### We are now ready to start working with the actual CTR data, and our first task involves splitting it into training, validation, and test sets.  Use the [randomSplit method](https://spark.apache.org/docs/latest/api/python/pyspark.html#pyspark.RDD.randomSplit) with the specified weights and seed to create RDDs storing each of these datasets, and then [cache](https://spark.apache.org/docs/latest/api/python/pyspark.html#pyspark.RDD.cache) each of these RDDs, as we will be accessing them multiple times in the remainder of this lab. Finally, compute the size of each dataset."
      ]
    },
    {
      "cell_type": "code",
      "execution_count": 22,
      "metadata": {
        "id": "VLouxSbN1CDN",
        "colab": {
          "base_uri": "https://localhost:8080/"
        },
        "outputId": "0a509136-9a1b-4356-ca52-bf3db7070ff9"
      },
      "outputs": [
        {
          "output_type": "stream",
          "name": "stdout",
          "text": [
            "80053 9941 10006 100000\n",
            "['0,1,1,5,0,1382,4,15,2,181,1,2,,2,68fd1e64,80e26c9b,fb936136,7b4723c4,25c83c98,7e0ccccf,de7995b8,1f89b562,a73ee510,a8cd5504,b2cb9c98,37c9c164,2824a5f6,1adce6ef,8ba8b39a,891b62e7,e5ba7672,f54016b9,21ddcdc9,b1252a9d,07b5194c,,3a171ecb,c5c50484,e8b83407,9727dd16']\n"
          ]
        }
      ],
      "source": [
        "# TODO: Replace <FILL IN> with appropriate code\n",
        "weights = [.8, .1, .1]\n",
        "seed = 42\n",
        "# Use randomSplit with weights and seed\n",
        "rawTrainData, rawValidationData, rawTestData = rawData.randomSplit(weights,seed)\n",
        "# Cache the data\n",
        "rawTrainData.cache()\n",
        "rawValidationData.cache()\n",
        "rawTestData.cache()\n",
        "\n",
        "nTrain = rawTrainData.count()\n",
        "nVal = rawValidationData.count()\n",
        "nTest = rawTestData.count()\n",
        "print (nTrain, nVal, nTest, nTrain + nVal + nTest)\n",
        "print (rawData.take(1))"
      ]
    },
    {
      "cell_type": "code",
      "execution_count": 23,
      "metadata": {
        "id": "fCaFiPQt1CDN",
        "colab": {
          "base_uri": "https://localhost:8080/"
        },
        "outputId": "6863b84d-457d-417a-f59b-cc8b21e3ae8e"
      },
      "outputs": [
        {
          "output_type": "stream",
          "name": "stdout",
          "text": [
            "1 test passed.\n"
          ]
        }
      ],
      "source": [
        "# TEST Loading and splitting the data (3a)\n",
        "Test.assertTrue(all([rawTrainData.is_cached, rawValidationData.is_cached, rawTestData.is_cached]),\n",
        "                'you must cache the split data')"
      ]
    },
    {
      "cell_type": "markdown",
      "metadata": {
        "id": "cMFDHkBF1CDN"
      },
      "source": [
        "#### ** (3b) Extract features **\n",
        "#### We will now parse the raw training data to create an RDD that we can subsequently use to create an OHE dictionary. Note from the `take()` command in Part (3a) that each raw data point is a string containing several fields separated by some delimiter.  For now, we will ignore the first field (which is the 0-1 label), and parse the remaining fields (or raw features).  To do this, complete the implemention of the `parsePoint` function."
      ]
    },
    {
      "cell_type": "code",
      "execution_count": 24,
      "metadata": {
        "id": "LKpWbB0w1CDN",
        "colab": {
          "base_uri": "https://localhost:8080/"
        },
        "outputId": "11bb9489-6dca-4e2e-ed62-a95feb48ba13"
      },
      "outputs": [
        {
          "output_type": "stream",
          "name": "stdout",
          "text": [
            "864\n"
          ]
        }
      ],
      "source": [
        "# TODO: Replace <FILL IN> with appropriate code\n",
        "def parsePoint(point):\n",
        "    \"\"\"Converts a comma separated string into a list of (featureID, value) tuples.\n",
        "\n",
        "    Note:\n",
        "        featureIDs should start at 0 and increase to the number of features - 1.\n",
        "\n",
        "    Args:\n",
        "        point (str): A comma separated string where the first value is the label and the rest\n",
        "            are features.\n",
        "\n",
        "    Returns:\n",
        "        list: A list of (featureID, value) tuples.\n",
        "    \"\"\"\n",
        "    point = point.split(\",\")\n",
        "    label = point[0]\n",
        "    feature = point[1:]\n",
        "    answer = []\n",
        "    for i in range(len(feature)):\n",
        "      answer.append(((i,feature[i])))\n",
        "    return answer\n",
        "\n",
        "parsedTrainFeat = rawTrainData.map(parsePoint)\n",
        "\n",
        "numCategories = (parsedTrainFeat\n",
        "                 .flatMap(lambda x: x)\n",
        "                 .distinct()\n",
        "                 .map(lambda x: (x[0], 1))\n",
        "                 .reduceByKey(lambda x, y: x + y)\n",
        "                 .sortByKey()\n",
        "                 .collect())\n",
        "\n",
        "print (numCategories[2][1])"
      ]
    },
    {
      "cell_type": "code",
      "source": [
        "# numCategories"
      ],
      "metadata": {
        "id": "9dcmfHCoETag"
      },
      "execution_count": 25,
      "outputs": []
    },
    {
      "cell_type": "code",
      "execution_count": 26,
      "metadata": {
        "id": "G8KtzxgP1CDO",
        "colab": {
          "base_uri": "https://localhost:8080/"
        },
        "outputId": "1be9530d-070b-44c6-beb5-1e41507ac77f"
      },
      "outputs": [
        {
          "output_type": "stream",
          "name": "stdout",
          "text": [
            "1 test passed.\n",
            "1 test passed.\n"
          ]
        }
      ],
      "source": [
        "# TEST Extract features (3b)\n",
        "Test.assertEquals(numCategories[2][1], 864, 'incorrect implementation of parsePoint')\n",
        "Test.assertEquals(numCategories[32][1], 4, 'incorrect implementation of parsePoint')"
      ]
    },
    {
      "cell_type": "markdown",
      "metadata": {
        "id": "SzpOrzgz1CDO"
      },
      "source": [
        "#### **(3c) Create an OHE dictionary from the dataset **\n",
        "#### Note that parsePoint returns a data point as a list of `(featureID, category)` tuples, which is the same format as the sample dataset studied in Parts 1 and 2 of this lab.  Using this observation, create an OHE dictionary using the function implemented in Part (2c). Note that we will assume for simplicity that all features in our CTR dataset are categorical."
      ]
    },
    {
      "cell_type": "code",
      "execution_count": 27,
      "metadata": {
        "id": "JZtO_Zfg1CDO",
        "colab": {
          "base_uri": "https://localhost:8080/"
        },
        "outputId": "411c3f5e-70a5-4a1e-9cd1-75bd26631edd"
      },
      "outputs": [
        {
          "output_type": "stream",
          "name": "stdout",
          "text": [
            "234358\n",
            "50\n"
          ]
        }
      ],
      "source": [
        "# TODO: Replace <FILL IN> with appropriate code\n",
        "ctrOHEDict = createOneHotDict(parsedTrainFeat)\n",
        "numCtrOHEFeats = len(ctrOHEDict.keys())\n",
        "print (numCtrOHEFeats)\n",
        "print (ctrOHEDict[(0, '')])"
      ]
    },
    {
      "cell_type": "code",
      "execution_count": 28,
      "metadata": {
        "id": "cv_7YT8W1CDO",
        "colab": {
          "base_uri": "https://localhost:8080/"
        },
        "outputId": "858aedc7-8864-4a94-b27a-32dde30b3fc7"
      },
      "outputs": [
        {
          "output_type": "stream",
          "name": "stdout",
          "text": [
            "1 test passed.\n",
            "1 test passed.\n"
          ]
        }
      ],
      "source": [
        "# TEST Create an OHE dictionary from the dataset (3c)\n",
        "Test.assertEquals(numCtrOHEFeats, 234358 , 'incorrect number of features in ctrOHEDict')\n",
        "Test.assertTrue((0, '') in ctrOHEDict, 'incorrect features in ctrOHEDict')"
      ]
    },
    {
      "cell_type": "markdown",
      "metadata": {
        "id": "slD_zJ-j1CDO"
      },
      "source": [
        "#### ** (3d) Apply OHE to the dataset **\n",
        "#### Now let's use this OHE dictionary by starting with the raw training data and creating an RDD of [LabeledPoint](http://spark.apache.org/docs/1.3.1/api/python/pyspark.mllib.html#pyspark.mllib.regression.LabeledPoint) objects using OHE features.  To do this, complete the implementation of the `parseOHEPoint` function. Hint: `parseOHEPoint` is an extension of the `parsePoint` function from Part (3b) and it uses the `oneHotEncoding` function from Part (1d)."
      ]
    },
    {
      "cell_type": "code",
      "execution_count": 29,
      "metadata": {
        "id": "R7Yxa05Y1CDO"
      },
      "outputs": [],
      "source": [
        "from pyspark.mllib.regression import LabeledPoint"
      ]
    },
    {
      "cell_type": "code",
      "execution_count": 30,
      "metadata": {
        "id": "nIk-C04A1CDP",
        "colab": {
          "base_uri": "https://localhost:8080/"
        },
        "outputId": "f70007d2-e400-4b1c-a3f0-5fdca80ba784"
      },
      "outputs": [
        {
          "output_type": "stream",
          "name": "stdout",
          "text": [
            "[LabeledPoint(0.0, (234358,[0,1,2,3,4,5,6,7,8,9,10,11,12,13,14,15,16,17,117215,117216,117217,117218,117219,117220,117221,117222,117223,117224,117225,117226,117227,117228,117229,117230,117231,117232,117233,117234,117235],[1.0,1.0,1.0,1.0,1.0,1.0,1.0,1.0,1.0,1.0,1.0,1.0,1.0,1.0,1.0,1.0,1.0,1.0,1.0,1.0,1.0,1.0,1.0,1.0,1.0,1.0,1.0,1.0,1.0,1.0,1.0,1.0,1.0,1.0,1.0,1.0,1.0,1.0,1.0]))]\n"
          ]
        }
      ],
      "source": [
        "# TODO: Replace <FILL IN> with appropriate code\n",
        "def parseOHEPoint(point, OHEDict, numOHEFeats):\n",
        "    \"\"\"Obtain the label and feature vector for this raw observation.\n",
        "\n",
        "    Note:\n",
        "        You must use the function `oneHotEncoding` in this implementation or later portions\n",
        "        of this lab may not function as expected.\n",
        "\n",
        "    Args:\n",
        "        point (str): A comma separated string where the first value is the label and the rest\n",
        "            are features.\n",
        "        OHEDict (dict of (int, str) to int): Mapping of (featureID, value) to unique integer.\n",
        "        numOHEFeats (int): The number of unique features in the training dataset.\n",
        "\n",
        "    Returns:\n",
        "        LabeledPoint: Contains the label for the observation and the one-hot-encoding of the\n",
        "            raw features based on the provided OHE dictionary.\n",
        "    \"\"\"\n",
        "    feature = parsePoint(point)\n",
        "    label = int(point.split(\",\")[0])\n",
        "    \n",
        "\n",
        "    return LabeledPoint(label,oneHotEncoding(feature,OHEDict,numOHEFeats))\n",
        "\n",
        "    \n",
        "OHETrainData = rawTrainData.map(lambda point: parseOHEPoint(point, ctrOHEDict, numCtrOHEFeats))\n",
        "OHETrainData.cache()\n",
        "print (OHETrainData.take(1))\n",
        "\n",
        "# Check that oneHotEncoding function was used in parseOHEPoint\n",
        "backupOneHot = oneHotEncoding\n",
        "oneHotEncoding = None\n",
        "withOneHot = False\n",
        "try: parseOHEPoint(rawTrainData.take(1)[0], ctrOHEDict, numCtrOHEFeats)\n",
        "except TypeError: withOneHot = True\n",
        "oneHotEncoding = backupOneHot"
      ]
    },
    {
      "cell_type": "code",
      "execution_count": 31,
      "metadata": {
        "id": "qHGq_N6s1CDP",
        "colab": {
          "base_uri": "https://localhost:8080/"
        },
        "outputId": "20c4762d-ebe6-41f3-ff57-d1dda1f20f81"
      },
      "outputs": [
        {
          "output_type": "stream",
          "name": "stdout",
          "text": [
            "1 test passed.\n",
            "1 test passed.\n"
          ]
        }
      ],
      "source": [
        "# TEST Apply OHE to the dataset (3d)\n",
        "numNZ = sum(parsedTrainFeat.map(lambda x: len(x)).take(5))\n",
        "numNZAlt = sum(OHETrainData.map(lambda lp: len(lp.features.indices)).take(5))\n",
        "Test.assertEquals(numNZ, numNZAlt, 'incorrect implementation of parseOHEPoint')\n",
        "Test.assertTrue(withOneHot, 'oneHotEncoding not present in parseOHEPoint')"
      ]
    },
    {
      "cell_type": "markdown",
      "metadata": {
        "id": "ymNTlL391CDP"
      },
      "source": [
        "#### **Visualization 1: Feature frequency **\n",
        "#### We will now visualize the number of times each of the 233,286 OHE features appears in the training data. We first compute the number of times each feature appears, then bucket the features by these counts.  The buckets are sized by powers of 2, so the first bucket corresponds to features that appear exactly once ( $ \\scriptsize 2^0 $ ), the second to features that appear twice ( $ \\scriptsize 2^1 $ ), the third to features that occur between three and four ( $ \\scriptsize 2^2 $ ) times, the fifth bucket is five to eight ( $ \\scriptsize 2^3 $ ) times and so on. The scatter plot below shows the logarithm of the bucket thresholds versus the logarithm of the number of features that have counts that fall in the buckets."
      ]
    },
    {
      "cell_type": "code",
      "execution_count": 32,
      "metadata": {
        "id": "4vyNuDTZ1CDP",
        "colab": {
          "base_uri": "https://localhost:8080/"
        },
        "outputId": "26b0e8cc-4e4f-479f-84d2-af26251cd935"
      },
      "outputs": [
        {
          "output_type": "stream",
          "name": "stdout",
          "text": [
            "[(8, 11480), (2, 23578), (16, 7750), (128, 1504), (64, 2663), (256, 733), (32, 4792), (512, 416), (1024, 251), (4, 16870), (1, 164030)]\n"
          ]
        }
      ],
      "source": [
        "def bucketFeatByCount(featCount):\n",
        "    \"\"\"Bucket the counts by powers of two.\"\"\"\n",
        "    for i in range(11):\n",
        "        size = 2 ** i\n",
        "        if featCount <= size:\n",
        "            return size\n",
        "    return -1\n",
        "\n",
        "featCounts = (OHETrainData\n",
        "              .flatMap(lambda lp: lp.features.indices)\n",
        "              .map(lambda x: (x, 1))\n",
        "              .reduceByKey(lambda x, y: x + y))\n",
        "featCountsBuckets = (featCounts\n",
        "                     .map(lambda x: (bucketFeatByCount(x[1]), 1))\n",
        "                     .filter(lambda x: x[0] != -1)\n",
        "                     .reduceByKey(lambda x, y: x + y)\n",
        "                     .collect())\n",
        "print (featCountsBuckets)"
      ]
    },
    {
      "cell_type": "code",
      "execution_count": 33,
      "metadata": {
        "id": "pq5OkI-Q1CDP",
        "colab": {
          "base_uri": "https://localhost:8080/",
          "height": 392
        },
        "outputId": "c8608a17-5789-4e6e-da85-3936f8fa7c22"
      },
      "outputs": [
        {
          "output_type": "display_data",
          "data": {
            "text/plain": [
              "<Figure size 756x432 with 1 Axes>"
            ],
            "image/png": "[encoded data removed]"
          },
          "metadata": {}
        }
      ],
      "source": [
        "import matplotlib.pyplot as plt\n",
        "\n",
        "x, y = zip(*featCountsBuckets)\n",
        "x, y = np.log(x), np.log(y)\n",
        "\n",
        "def preparePlot(xticks, yticks, figsize=(10.5, 6), hideLabels=False, gridColor='#999999',\n",
        "                gridWidth=1.0):\n",
        "    \"\"\"Template for generating the plot layout.\"\"\"\n",
        "    plt.close()\n",
        "    fig, ax = plt.subplots(figsize=figsize, facecolor='white', edgecolor='white')\n",
        "    ax.axes.tick_params(labelcolor='#999999', labelsize='10')\n",
        "    for axis, ticks in [(ax.get_xaxis(), xticks), (ax.get_yaxis(), yticks)]:\n",
        "        axis.set_ticks_position('none')\n",
        "        axis.set_ticks(ticks)\n",
        "        axis.label.set_color('#999999')\n",
        "        if hideLabels: axis.set_ticklabels([])\n",
        "    plt.grid(color=gridColor, linewidth=gridWidth, linestyle='-')\n",
        "    map(lambda position: ax.spines[position].set_visible(False), ['bottom', 'top', 'left', 'right'])\n",
        "    return fig, ax\n",
        "\n",
        "# generate layout and plot data\n",
        "fig, ax = preparePlot(np.arange(0, 10, 1), np.arange(4, 14, 2))\n",
        "ax.set_xlabel(r'$\\log_e(bucketSize)$'), ax.set_ylabel(r'$\\log_e(countInBucket)$')\n",
        "plt.scatter(x, y, s=14**2, c='#d6ebf2', edgecolors='#8cbfd0', alpha=0.75)\n",
        "pass"
      ]
    },
    {
      "cell_type": "markdown",
      "metadata": {
        "id": "wguoJZJ41CDP"
      },
      "source": [
        "#### **(3e) Handling unseen features **\n",
        "#### We naturally would like to repeat the process from Part (3d), e.g., to compute OHE features for the validation and test datasets.  However, we must be careful, as some categorical values will likely appear in new data that did not exist in the training data. To deal with this situation, update the `oneHotEncoding()` function from Part (1d) to ignore previously unseen categories, and then compute OHE features for the validation data."
      ]
    },
    {
      "cell_type": "code",
      "execution_count": 34,
      "metadata": {
        "id": "DliXuoD51CDQ",
        "colab": {
          "base_uri": "https://localhost:8080/"
        },
        "outputId": "049f46a5-824d-46bb-8115-732dd0388806"
      },
      "outputs": [
        {
          "output_type": "stream",
          "name": "stdout",
          "text": [
            "[LabeledPoint(0.0, (234358,[2,8,15,21,45,49,50,52,61,96,135,160,164,671,1355,5140,5141,5142,117223,117226,117238,117242,117258,117261,117262,117267,117269,117284,117287,118378,119236,120375,122236,122237,122238,122239,122240,122241,170030],[1.0,1.0,1.0,1.0,1.0,1.0,1.0,1.0,1.0,1.0,1.0,1.0,1.0,1.0,1.0,1.0,1.0,1.0,1.0,1.0,1.0,1.0,1.0,1.0,1.0,1.0,1.0,1.0,1.0,1.0,1.0,1.0,1.0,1.0,1.0,1.0,1.0,1.0,1.0]))]\n"
          ]
        }
      ],
      "source": [
        "# TODO: Replace <FILL IN> with appropriate code\n",
        "def oneHotEncoding(rawFeats, OHEDict, numOHEFeats):\n",
        "    \"\"\"Produce a one-hot-encoding from a list of features and an OHE dictionary.\n",
        "\n",
        "    Note:\n",
        "        If a (featureID, value) tuple doesn't have a corresponding key in OHEDict it should be\n",
        "        ignored.\n",
        "\n",
        "    Args:\n",
        "        rawFeats (list of (int, str)): The features corresponding to a single observation.  Each\n",
        "            feature consists of a tuple of featureID and the feature's value. (e.g. sampleOne)\n",
        "        OHEDict (dict): A mapping of (featureID, value) to unique integer.\n",
        "        numOHEFeats (int): The total number of unique OHE features (combinations of featureID and\n",
        "            value).\n",
        "\n",
        "    Returns:\n",
        "        SparseVector: A SparseVector of length numOHEFeats with indicies equal to the unique\n",
        "            identifiers for the (featureID, value) combinations that occur in the observation and\n",
        "            with values equal to 1.0.\n",
        "    \"\"\"\n",
        "    answer = []\n",
        "    for data in rawFeats:\n",
        "      try:\n",
        "        answer.append(OHEDict[data])\n",
        "      except:\n",
        "        pass\n",
        "    return SparseVector(numOHEFeats,sorted(answer), [1]*len(answer))\n",
        "\n",
        "OHEValidationData = rawValidationData.map(lambda point: parseOHEPoint(point, ctrOHEDict, numCtrOHEFeats))\n",
        "OHEValidationData.cache()\n",
        "print (OHEValidationData.take(1))"
      ]
    },
    {
      "cell_type": "code",
      "execution_count": 35,
      "metadata": {
        "id": "VzSSHko91CDQ",
        "colab": {
          "base_uri": "https://localhost:8080/"
        },
        "outputId": "96edfe86-e983-4dcc-9f62-69154ee7221a"
      },
      "outputs": [
        {
          "output_type": "stream",
          "name": "stdout",
          "text": [
            "367585\n"
          ]
        }
      ],
      "source": [
        "# TEST Handling unseen features (3e)\n",
        "numNZVal = (OHEValidationData\n",
        "            .map(lambda lp: len(lp.features.indices))\n",
        "            .sum())\n",
        "print(numNZVal)"
      ]
    },
    {
      "cell_type": "markdown",
      "metadata": {
        "id": "J0X5KcXL1CDQ"
      },
      "source": [
        "### ** Part 4: CTR prediction and logloss evaluation **"
      ]
    },
    {
      "cell_type": "markdown",
      "metadata": {
        "id": "uv1jZKUE1CDQ"
      },
      "source": [
        "#### ** (4a) Logistic regression **\n",
        "#### We are now ready to train our first CTR classifier.  A natural classifier to use in this setting is logistic regression, since it models the probability of a click-through event rather than returning a binary response, and when working with rare events, probabilistic predictions are useful.  First use [LogisticRegressionWithSGD](https://spark.apache.org/docs/latest/api/python/pyspark.mllib.html#pyspark.mllib.classification.LogisticRegressionWithSGD) to train a model using `OHETrainData` with the given hyperparameter configuration.  `LogisticRegressionWithSGD` returns a [LogisticRegressionModel](https://spark.apache.org/docs/latest/api/python/pyspark.mllib.html#pyspark.mllib.regression.LogisticRegressionModel).  Next, use the `LogisticRegressionModel.weights` and `LogisticRegressionModel.intercept` attributes to print out the model's parameters.  Note that these are the names of the object's attributes and should be called using a syntax like `model.weights` for a given `model`."
      ]
    },
    {
      "cell_type": "code",
      "execution_count": 36,
      "metadata": {
        "id": "ucKG6PhI1CDQ"
      },
      "outputs": [],
      "source": [
        "from pyspark.mllib.classification import LogisticRegressionWithSGD\n",
        "\n",
        "# fixed hyperparameters\n",
        "numIters = 50\n",
        "stepSize = 10.\n",
        "regParam = 1e-6\n",
        "regType = 'l2'\n",
        "includeIntercept = True"
      ]
    },
    {
      "cell_type": "code",
      "execution_count": 37,
      "metadata": {
        "id": "-dEvx9Ju1CDR",
        "colab": {
          "base_uri": "https://localhost:8080/"
        },
        "outputId": "3af667c1-3476-4f9f-ca25-8b32a898f40d"
      },
      "outputs": [
        {
          "output_type": "stream",
          "name": "stderr",
          "text": [
            "/usr/local/lib/python3.7/dist-packages/pyspark/mllib/classification.py:327: FutureWarning: Deprecated in 2.0.0. Use ml.classification.LogisticRegression or LogisticRegressionWithLBFGS.\n",
            "  \"LogisticRegressionWithLBFGS.\", FutureWarning)\n"
          ]
        },
        {
          "output_type": "stream",
          "name": "stdout",
          "text": [
            "[-0.4629715942627959, -0.390402301828179, -0.38712819858279246, -0.35815003494268316, -0.349632414954747] 0.5616041364601838\n"
          ]
        }
      ],
      "source": [
        "# TODO: Replace <FILL IN> with appropriate code\n",
        "model0 = LogisticRegressionWithSGD.train(OHETrainData,iterations=numIters,step=stepSize,regParam=regParam,regType=regType,intercept=includeIntercept)\n",
        "sortedWeights = sorted(model0.weights)\n",
        "print (sortedWeights[:5], model0.intercept)"
      ]
    },
    {
      "cell_type": "markdown",
      "metadata": {
        "id": "33rTmO5y1CDR"
      },
      "source": [
        "#### ** (4b) Log loss **\n",
        "#### Throughout this lab, we will use log loss to evaluate the quality of models.  Log loss is defined as: $$  \\begin{align} \\scriptsize \\ell_{log}(p, y) = \\begin{cases} -\\log (p) & \\text{if } y = 1 \\\\\\ -\\log(1-p) & \\text{if } y = 0 \\end{cases} \\end{align} $$ where $ \\scriptsize p$ is a probability between 0 and 1 and $ \\scriptsize y$ is a label of either 0 or 1. Log loss is a standard evaluation criterion when predicting rare-events such as click-through rate prediction (it is also the criterion used in the [Criteo Kaggle competition](https://www.kaggle.com/c/criteo-display-ad-challenge)).  Write a function to compute log loss, and evaluate it on some sample inputs."
      ]
    },
    {
      "cell_type": "code",
      "execution_count": 38,
      "metadata": {
        "id": "6-GihN7j1CDR",
        "colab": {
          "base_uri": "https://localhost:8080/"
        },
        "outputId": "626bbdd8-451a-46ee-b7c2-4f9736ba4545"
      },
      "outputs": [
        {
          "output_type": "stream",
          "name": "stdout",
          "text": [
            "0.6931471805399453\n",
            "0.6931471805399453\n",
            "0.010050335843400439\n",
            "4.605170184988091\n",
            "4.605170184988091\n",
            "0.010050335843400439\n",
            "25.328436022934504\n",
            "-1.0000000827353709e-11\n",
            "25.328436022934504\n"
          ]
        }
      ],
      "source": [
        "# TODO: Replace <FILL IN> with appropriate code\n",
        "from math import log\n",
        "\n",
        "def computeLogLoss(p, y):\n",
        "    \"\"\"Calculates the value of log loss for a given probabilty and label.\n",
        "\n",
        "    Note:\n",
        "        log(0) is undefined, so when p is 0 we need to add a small value (epsilon) to it\n",
        "        and when p is 1 we need to subtract a small value (epsilon) from it.\n",
        "\n",
        "    Args:\n",
        "        p (float): A probabilty between 0 and 1.\n",
        "        y (int): A label.  Takes on the values 0 and 1.\n",
        "\n",
        "    Returns:\n",
        "        float: The log loss value.\n",
        "    \"\"\"\n",
        "    epsilon = 10e-12\n",
        "    return -(y*log(p+epsilon)+(1-y)*(log(1-p+epsilon)))\n",
        "\n",
        "print(computeLogLoss(.5, 1))\n",
        "print(computeLogLoss(.5, 0))\n",
        "print(computeLogLoss(.99, 1))\n",
        "print(computeLogLoss(.99, 0))\n",
        "print(computeLogLoss(.01, 1))\n",
        "print(computeLogLoss(.01, 0))\n",
        "print(computeLogLoss(0, 1))\n",
        "print(computeLogLoss(1, 1))\n",
        "print(computeLogLoss(1, 0))"
      ]
    },
    {
      "cell_type": "code",
      "execution_count": 39,
      "metadata": {
        "id": "2hMDrJh91CDR",
        "colab": {
          "base_uri": "https://localhost:8080/"
        },
        "outputId": "29e49026-44da-41f1-8fa4-77513afa674a"
      },
      "outputs": [
        {
          "output_type": "stream",
          "name": "stdout",
          "text": [
            "1 test passed.\n",
            "1 test passed.\n"
          ]
        }
      ],
      "source": [
        "# TEST Log loss (4b)\n",
        "Test.assertTrue(np.allclose([computeLogLoss(.5, 1), computeLogLoss(.01, 0), computeLogLoss(.01, 1)],\n",
        "                            [0.69314718056, 0.0100503358535, 4.60517018599]),\n",
        "                'computeLogLoss is not correct')\n",
        "Test.assertTrue(np.allclose([computeLogLoss(0, 1), computeLogLoss(1, 1), computeLogLoss(1, 0)],\n",
        "                            [25.3284360229, 1.00000008275e-11, 25.3284360229]),\n",
        "                'computeLogLoss needs to bound p away from 0 and 1 by epsilon')"
      ]
    },
    {
      "cell_type": "markdown",
      "metadata": {
        "id": "QxgDfcZk1CDS"
      },
      "source": [
        "#### ** (4c)  Baseline log loss **\n",
        "#### Next we will use the function we wrote in Part (4b) to compute the baseline log loss on the training data. A very simple yet natural baseline model is one where we always make the same prediction independent of the given datapoint, setting the predicted value equal to the fraction of training points that correspond to click-through events (i.e., where the label is one). Compute this value (which is simply the mean of the training labels), and then use it to compute the training log loss for the baseline model.  The log loss for multiple observations is the mean of the individual log loss values."
      ]
    },
    {
      "cell_type": "code",
      "execution_count": 40,
      "metadata": {
        "id": "o2A9Iyem1CDS",
        "colab": {
          "base_uri": "https://localhost:8080/"
        },
        "outputId": "d97a1ff2-17bf-45f3-b1af-d47b0d6d8c6b"
      },
      "outputs": [
        {
          "output_type": "stream",
          "name": "stdout",
          "text": [
            "0.2271245299988764\n",
            "Baseline Train Logloss = 0.536\n",
            "\n"
          ]
        }
      ],
      "source": [
        "# TODO: Replace <FILL IN> with appropriate code\n",
        "# Note that our dataset has a very high click-through rate by design\n",
        "# In practice click-through rate can be one to two orders of magnitude lower\n",
        "classOneFracTrain = OHETrainData.map(lambda x:x.label).mean()\n",
        "print (classOneFracTrain)\n",
        "\n",
        "logLossTrBase = OHETrainData.map(lambda x:computeLogLoss(classOneFracTrain, x.label)).mean()\n",
        "print ('Baseline Train Logloss = {0:.3f}\\n'.format(logLossTrBase))"
      ]
    },
    {
      "cell_type": "markdown",
      "metadata": {
        "id": "5Y2OSpkx1CDS"
      },
      "source": [
        "#### ** (4d) Predicted probability **\n",
        "#### In order to compute the log loss for the model we trained in Part (4a), we need to write code to generate predictions from this model. Write a function that computes the raw linear prediction from this logistic regression model and then passes it through a [sigmoid function](http://en.wikipedia.org/wiki/Sigmoid_function) $ \\scriptsize \\sigma(t) = (1+ e^{-t})^{-1} $ to return the model's probabilistic prediction. Then compute probabilistic predictions on the training data.\n",
        "#### Note that when incorporating an intercept into our predictions, we simply add the intercept to the value of the prediction obtained from the weights and features.  Alternatively, if the intercept was included as the first weight, we would need to add a corresponding feature to our data where the feature has the value one.  This is not the case here."
      ]
    },
    {
      "cell_type": "code",
      "execution_count": 41,
      "metadata": {
        "id": "F8UcOJlS1CDS",
        "colab": {
          "base_uri": "https://localhost:8080/"
        },
        "outputId": "a36738aa-386c-4356-ad5f-4c674ec39d04"
      },
      "outputs": [
        {
          "output_type": "stream",
          "name": "stdout",
          "text": [
            "[0.28030535919449734, 0.094841892570971, 0.2828812845591475, 0.16384346875926228, 0.5695978450809586]\n"
          ]
        }
      ],
      "source": [
        "# TODO: Replace <FILL IN> with appropriate code\n",
        "from math import exp #  exp(-t) = e^-t\n",
        "\n",
        "def getP(x, w, intercept):\n",
        "    \"\"\"Calculate the probability for an observation given a set of weights and intercept.\n",
        "\n",
        "    Note:\n",
        "        We'll bound our raw prediction between 20 and -20 for numerical purposes.\n",
        "\n",
        "    Args:\n",
        "        x (SparseVector): A vector with values of 1.0 for features that exist in this\n",
        "            observation and 0.0 otherwise.\n",
        "        w (DenseVector): A vector of weights (betas) for the model.\n",
        "        intercept (float): The model's intercept.\n",
        "\n",
        "    Returns:\n",
        "        float: A probability between 0 and 1.\n",
        "    \"\"\"\n",
        "    rawPrediction = x.dot(w)+intercept\n",
        "\n",
        "    # Bound the raw prediction value\n",
        "    rawPrediction = min(rawPrediction, 20)\n",
        "    rawPrediction = max(rawPrediction, -20)\n",
        "    return 1/(1+exp(-rawPrediction))\n",
        "\n",
        "trainingPredictions = OHETrainData.map(lambda x:getP(x.features, model0.weights, model0.intercept))\n",
        "print (trainingPredictions.take(5))"
      ]
    },
    {
      "cell_type": "markdown",
      "metadata": {
        "id": "j-apuhIj1CDT"
      },
      "source": [
        "#### ** (4e) Evaluate the model **\n",
        "#### We are now ready to evaluate the quality of the model we trained in Part (4a). To do this, first write a general function that takes as input a model and data, and outputs the log loss.  Then run this function on the OHE training data, and compare the result with the baseline log loss."
      ]
    },
    {
      "cell_type": "code",
      "execution_count": 42,
      "metadata": {
        "id": "aBGuJnnx1CDT",
        "colab": {
          "base_uri": "https://localhost:8080/"
        },
        "outputId": "0380f2a3-4877-4e98-b9d6-b5d70d3206b5"
      },
      "outputs": [
        {
          "output_type": "stream",
          "name": "stdout",
          "text": [
            "OHE Features Train Logloss:\n",
            "\tBaseline = 0.536\n",
            "\tLogReg = 0.457\n"
          ]
        }
      ],
      "source": [
        "# TODO: Replace <FILL IN> with appropriate code\n",
        "def evaluateResults(model, data):\n",
        "    \"\"\"Calculates the log loss for the data given the model.\n",
        "\n",
        "    Args:\n",
        "        model (LogisticRegressionModel): A trained logistic regression model.\n",
        "        data (RDD of LabeledPoint): Labels and features for each observation.\n",
        "\n",
        "    Returns:\n",
        "        float: Log loss for the data.\n",
        "    \"\"\"\n",
        "    return data.map(lambda x:computeLogLoss(getP(x.features, model.weights, model.intercept), x.label)).mean()\n",
        "\n",
        "logLossTrLR0 = evaluateResults(model0, OHETrainData)\n",
        "print ('OHE Features Train Logloss:\\n\\tBaseline = {0:.3f}\\n\\tLogReg = {1:.3f}'\n",
        "       .format(logLossTrBase, logLossTrLR0))"
      ]
    },
    {
      "cell_type": "markdown",
      "metadata": {
        "id": "88PNJMOc1CDT"
      },
      "source": [
        "#### ** (4f) Validation log loss **\n",
        "#### Next, following the same logic as in Parts (4c) and 4(e), compute the validation log loss for both the baseline and logistic regression models. Notably, the baseline model for the validation data should still be based on the label fraction from the training dataset."
      ]
    },
    {
      "cell_type": "code",
      "execution_count": 43,
      "metadata": {
        "id": "dahpHN-t1CDT",
        "colab": {
          "base_uri": "https://localhost:8080/"
        },
        "outputId": "83d77dce-0e69-4280-b47d-dcf1fe286f4a"
      },
      "outputs": [
        {
          "output_type": "stream",
          "name": "stdout",
          "text": [
            "OHE Features Validation Logloss:\n",
            "\tBaseline = 0.527\n",
            "\tLogReg = 0.458\n"
          ]
        }
      ],
      "source": [
        "# TODO: Replace <FILL IN> with appropriate code\n",
        "logLossValBase = OHEValidationData.map(lambda x:computeLogLoss(classOneFracTrain, x.label)).mean()\n",
        "\n",
        "logLossValLR0 = evaluateResults(model0, OHEValidationData)\n",
        "print ('OHE Features Validation Logloss:\\n\\tBaseline = {0:.3f}\\n\\tLogReg = {1:.3f}'\n",
        "       .format(logLossValBase, logLossValLR0))"
      ]
    },
    {
      "cell_type": "markdown",
      "metadata": {
        "id": "_Xz4vI0E1CDU"
      },
      "source": [
        "#### **Visualization 2: ROC curve **\n",
        "#### We will now visualize how well the model predicts our target.  To do this we generate a plot of the ROC curve.  The ROC curve shows us the trade-off between the false positive rate and true positive rate, as we liberalize the threshold required to predict a positive outcome.  A random model is represented by the dashed line."
      ]
    },
    {
      "cell_type": "code",
      "execution_count": 44,
      "metadata": {
        "id": "DeEAc1Ac1CDU",
        "colab": {
          "base_uri": "https://localhost:8080/",
          "height": 388
        },
        "outputId": "23f33590-de18-42b1-929f-256a1cc57596"
      },
      "outputs": [
        {
          "output_type": "display_data",
          "data": {
            "text/plain": [
              "<Figure size 756x432 with 1 Axes>"
            ],
            "image/png": "[encoded data removed]"
          },
          "metadata": {}
        }
      ],
      "source": [
        "labelsAndScores = OHEValidationData.map(lambda lp:(lp.label, getP(lp.features, model0.weights, model0.intercept)))\n",
        "labelsAndWeights = labelsAndScores.collect()\n",
        "labelsAndWeights.sort(key=lambda x: x[1], reverse=True)\n",
        "labelsByWeight = np.array([k for (k, v) in labelsAndWeights])\n",
        "\n",
        "length = labelsByWeight.size\n",
        "truePositives = labelsByWeight.cumsum()\n",
        "numPositive = truePositives[-1]\n",
        "falsePositives = np.arange(1.0, length + 1, 1.) - truePositives\n",
        "\n",
        "truePositiveRate = truePositives / numPositive\n",
        "falsePositiveRate = falsePositives / (length - numPositive)\n",
        "\n",
        "# Generate layout and plot data\n",
        "fig, ax = preparePlot(np.arange(0., 1.1, 0.1), np.arange(0., 1.1, 0.1))\n",
        "ax.set_xlim(-.05, 1.05), ax.set_ylim(-.05, 1.05)\n",
        "ax.set_ylabel('True Positive Rate (Sensitivity)')\n",
        "ax.set_xlabel('False Positive Rate (1 - Specificity)')\n",
        "plt.plot(falsePositiveRate, truePositiveRate, color='#8cbfd0', linestyle='-', linewidth=3.)\n",
        "plt.plot((0., 1.), (0., 1.), linestyle='--', color='#d6ebf2', linewidth=2.)  # Baseline model\n",
        "pass"
      ]
    },
    {
      "cell_type": "markdown",
      "metadata": {
        "id": "fGZMnUUY1CDU"
      },
      "source": [
        "### **Part 5: Reduce feature dimension via feature hashing**"
      ]
    },
    {
      "cell_type": "markdown",
      "metadata": {
        "id": "LLJRNhk51CDU"
      },
      "source": [
        "#### ** (5a) Hash function **\n",
        "#### As we just saw, using a one-hot-encoding featurization can yield a model with good statistical accuracy.  However, the number of distinct categories across all features is quite large -- recall that we observed 233K categories in the training data in Part (3c).  Moreover, the full Kaggle training dataset includes more than 33M distinct categories, and the Kaggle dataset itself is just a small subset of Criteo's labeled data.  Hence, featurizing via a one-hot-encoding representation would lead to a very large feature vector. To reduce the dimensionality of the feature space, we will use feature hashing.\n",
        "####Below is the hash function that we will use for this part of the lab.  We will first use this hash function with the three sample data points from Part (1a) to gain some intuition.  Specifically, run code to hash the three sample points using two different values for `numBuckets` and observe the resulting hashed feature dictionaries."
      ]
    },
    {
      "cell_type": "code",
      "execution_count": 48,
      "metadata": {
        "id": "DlhLuv211CDU"
      },
      "outputs": [],
      "source": [
        "from collections import defaultdict\n",
        "import hashlib\n",
        "\n",
        "def hashFunction(numBuckets, rawFeats, printMapping=False):\n",
        "    \"\"\"Calculate a feature dictionary for an observation's features based on hashing.\n",
        "\n",
        "    Note:\n",
        "        Use printMapping=True for debug purposes and to better understand how the hashing works.\n",
        "\n",
        "    Args:\n",
        "        numBuckets (int): Number of buckets to use as features.\n",
        "        rawFeats (list of (int, str)): A list of features for an observation.  Represented as\n",
        "            (featureID, value) tuples.\n",
        "        printMapping (bool, optional): If true, the mappings of featureString to index will be\n",
        "            printed.\n",
        "\n",
        "    Returns:\n",
        "        dict of int to float:  The keys will be integers which represent the buckets that the\n",
        "            features have been hashed to.  The value for a given key will contain the count of the\n",
        "            (featureID, value) tuples that have hashed to that key.\n",
        "    \"\"\"\n",
        "    mapping = {}\n",
        "    for ind, category in rawFeats:\n",
        "        featureString = category + str(ind)\n",
        "        mapping[featureString] = int(int(hashlib.md5(featureString.encode(\"utf-8\")).hexdigest(), 16) % numBuckets)\n",
        "    if(printMapping): print (mapping)\n",
        "    sparseFeatures = defaultdict(float)\n",
        "    for bucket in mapping.values():\n",
        "        sparseFeatures[bucket] += 1.0\n",
        "    return dict(sparseFeatures)\n",
        "\n",
        "# Reminder of the sample values:\n",
        "# sampleOne = [(0, 'mouse'), (1, 'black')]\n",
        "# sampleTwo = [(0, 'cat'), (1, 'tabby'), (2, 'mouse')]\n",
        "# sampleThree =  [(0, 'bear'), (1, 'black'), (2, 'salmon')]"
      ]
    },
    {
      "cell_type": "code",
      "execution_count": 49,
      "metadata": {
        "id": "zq2S61hg1CDU",
        "colab": {
          "base_uri": "https://localhost:8080/"
        },
        "outputId": "37bd79b9-0f9b-4749-a5ad-ed7267d6f9b6"
      },
      "outputs": [
        {
          "output_type": "stream",
          "name": "stdout",
          "text": [
            "{'mouse0': 3, 'black1': 2}\n",
            "{'cat0': 0, 'tabby1': 0, 'mouse2': 2}\n",
            "{'bear0': 0, 'black1': 2, 'salmon2': 1}\n",
            "{'mouse0': 31, 'black1': 14}\n",
            "{'cat0': 40, 'tabby1': 16, 'mouse2': 62}\n",
            "{'bear0': 72, 'black1': 14, 'salmon2': 5}\n",
            "\t\t 4 Buckets \t\t\t 100 Buckets\n",
            "SampleOne:\t {3: 1.0, 2: 1.0}\t\t {31: 1.0, 14: 1.0}\n",
            "SampleTwo:\t {0: 2.0, 2: 1.0}\t\t {40: 1.0, 16: 1.0, 62: 1.0}\n",
            "SampleThree:\t {0: 1.0, 2: 1.0, 1: 1.0}\t {72: 1.0, 14: 1.0, 5: 1.0}\n"
          ]
        }
      ],
      "source": [
        "# TODO: Replace <FILL IN> with appropriate code\n",
        "# Use four buckets\n",
        "sampOneFourBuckets = hashFunction(4, sampleOne, True)\n",
        "sampTwoFourBuckets = hashFunction(4, sampleTwo, True)\n",
        "sampThreeFourBuckets = hashFunction(4, sampleThree, True)\n",
        "\n",
        "# Use one hundred buckets\n",
        "sampOneHundredBuckets = hashFunction(100, sampleOne, True)\n",
        "sampTwoHundredBuckets = hashFunction(100, sampleTwo, True)\n",
        "sampThreeHundredBuckets = hashFunction(100, sampleThree, True)\n",
        "\n",
        "print ('\\t\\t 4 Buckets \\t\\t\\t 100 Buckets')\n",
        "print ('SampleOne:\\t {0}\\t\\t {1}'.format(sampOneFourBuckets, sampOneHundredBuckets))\n",
        "print ('SampleTwo:\\t {0}\\t\\t {1}'.format(sampTwoFourBuckets, sampTwoHundredBuckets))\n",
        "print ('SampleThree:\\t {0}\\t {1}'.format(sampThreeFourBuckets, sampThreeHundredBuckets))"
      ]
    },
    {
      "cell_type": "code",
      "execution_count": 50,
      "metadata": {
        "id": "eWLBjIwZ1CDV",
        "colab": {
          "base_uri": "https://localhost:8080/"
        },
        "outputId": "8f6f2a05-085e-482e-e7c4-e9c94c396530"
      },
      "outputs": [
        {
          "output_type": "stream",
          "name": "stdout",
          "text": [
            "1 test passed.\n",
            "1 test passed.\n"
          ]
        }
      ],
      "source": [
        "# TEST Hash function (5a)\n",
        "Test.assertEquals(sampOneFourBuckets, {2: 1.0, 3: 1.0}, 'incorrect value for sampOneFourBuckets')\n",
        "Test.assertEquals(sampThreeHundredBuckets, {72: 1.0, 5: 1.0, 14: 1.0},\n",
        "                  'incorrect value for sampThreeHundredBuckets')"
      ]
    },
    {
      "cell_type": "markdown",
      "metadata": {
        "id": "En800bmf1CDV"
      },
      "source": [
        "#### ** (5b) Creating hashed features **\n",
        "#### Next we will use this hash function to create hashed features for our CTR datasets. First write a function that uses the hash function from Part (5a) with numBuckets = $ \\scriptsize 2^{15} \\approx 33K $ to create a `LabeledPoint` with hashed features stored as a `SparseVector`.  Then use this function to create new training, validation and test datasets with hashed features. Hint: `parsedHashPoint` is similar to `parseOHEPoint` from Part (3d)."
      ]
    },
    {
      "cell_type": "code",
      "execution_count": 52,
      "metadata": {
        "id": "X1iCzjQp1CDV",
        "colab": {
          "base_uri": "https://localhost:8080/"
        },
        "outputId": "d2e66b4f-851d-4371-a4c5-5d0639b9e504"
      },
      "outputs": [
        {
          "output_type": "stream",
          "name": "stdout",
          "text": [
            "[LabeledPoint(0.0, (32768,[1305,2883,3807,4814,4866,4913,6952,7117,9985,10316,11512,11722,12365,13893,14735,15816,16198,17761,19274,21604,22256,22563,22785,24855,25202,25533,25721,26487,26656,27668,28211,29152,29402,29873,30039,31484,32493,32708],[1.0,1.0,1.0,1.0,1.0,1.0,1.0,1.0,1.0,1.0,1.0,1.0,1.0,1.0,1.0,1.0,1.0,1.0,1.0,1.0,1.0,1.0,1.0,1.0,1.0,1.0,1.0,1.0,1.0,1.0,1.0,1.0,1.0,1.0,1.0,1.0,1.0,1.0]))]\n"
          ]
        }
      ],
      "source": [
        "# TODO: Replace <FILL IN> with appropriate code\n",
        "def parseHashPoint(point, numBuckets):\n",
        "    \"\"\"Create a LabeledPoint for this observation using hashing.\n",
        "\n",
        "    Args:\n",
        "        point (str): A comma separated string where the first value is the label and the rest are\n",
        "            features.\n",
        "        numBuckets: The number of buckets to hash to.\n",
        "\n",
        "    Returns:\n",
        "        LabeledPoint: A LabeledPoint with a label (0.0 or 1.0) and a SparseVector of hashed\n",
        "            features.\n",
        "    \"\"\"\n",
        "    point = point.split(\",\")\n",
        "    label = point[0]\n",
        "    feature = point[1:]\n",
        "    ans = []\n",
        "    for fea in range(len(feature)):\n",
        "      ans.append((fea,feature[fea]))\n",
        "    feature_dict = hashFunction(numBuckets, ans, printMapping=False)\n",
        "    f = SparseVector(numBuckets, sorted(list(feature_dict.keys())), list(feature_dict.values()))\n",
        "    return LabeledPoint(label,f)\n",
        "\n",
        "numBucketsCTR = 2 ** 15\n",
        "hashTrainData = rawTrainData.map(lambda x:parseHashPoint(x, numBucketsCTR))\n",
        "hashTrainData.cache()\n",
        "hashValidationData = rawValidationData.map(lambda x:parseHashPoint(x, numBucketsCTR))\n",
        "hashValidationData.cache()\n",
        "hashTestData = rawTestData.map(lambda x:parseHashPoint(x, numBucketsCTR))\n",
        "hashTestData.cache()\n",
        "\n",
        "print (hashTrainData.take(1))"
      ]
    },
    {
      "cell_type": "markdown",
      "metadata": {
        "id": "kMFHepJf1CDV"
      },
      "source": [
        "#### ** (5c) Sparsity **\n",
        "#### Since we have 33K hashed features versus 233K OHE features, we should expect OHE features to be sparser. Verify this hypothesis by computing the average sparsity of the OHE and the hashed training datasets.\n",
        "#### Note that if you have a `SparseVector` named `sparse`, calling `len(sparse)` returns the total number of features, not the number features with entries.  `SparseVector` objects have the attributes `indices` and `values` that contain information about which features are nonzero.  Continuing with our example, these can be accessed using `sparse.indices` and `sparse.values`, respectively."
      ]
    },
    {
      "cell_type": "code",
      "execution_count": 54,
      "metadata": {
        "id": "PNDSen5p1CDW",
        "colab": {
          "base_uri": "https://localhost:8080/"
        },
        "outputId": "6ed914d9-96cc-440f-94b9-e65eef13c801"
      },
      "outputs": [
        {
          "output_type": "stream",
          "name": "stdout",
          "text": [
            "Average OHE Sparsity: 1.6641207e-04\n",
            "Average Hash Sparsity: 1.1806403e-03\n"
          ]
        }
      ],
      "source": [
        "# TODO: Replace <FILL IN> with appropriate code\n",
        "def computeSparsity(data, d, n):\n",
        "    \"\"\"Calculates the average sparsity for the features in an RDD of LabeledPoints.\n",
        "\n",
        "    Args:\n",
        "        data (RDD of LabeledPoint): The LabeledPoints to use in the sparsity calculation.\n",
        "        d (int): The total number of features.\n",
        "        n (int): The number of observations in the RDD.\n",
        "\n",
        "    Returns:\n",
        "        float: The average of the ratio of features in a point to total features.\n",
        "    \"\"\"\n",
        "    return data.map(lambda x:len(x.features.indices)/d).mean()\n",
        "\n",
        "averageSparsityHash = computeSparsity(hashTrainData, numBucketsCTR, nTrain)\n",
        "averageSparsityOHE = computeSparsity(OHETrainData, numCtrOHEFeats, nTrain)\n",
        "\n",
        "print ('Average OHE Sparsity: {0:.7e}'.format(averageSparsityOHE))\n",
        "print ('Average Hash Sparsity: {0:.7e}'.format(averageSparsityHash))"
      ]
    },
    {
      "cell_type": "markdown",
      "metadata": {
        "id": "IWjFiXEk1CDW"
      },
      "source": [
        "#### ** (5d) Logistic model with hashed features **\n",
        "#### Now let's train a logistic regression model using the hashed features. Run a grid search to find suitable hyperparameters for the hashed features, evaluating via log loss on the validation data. Note: This may take a few minutes to run. Use `1` and `10` for `stepSizes` and `1e-6` and `1e-3` for `regParams`."
      ]
    },
    {
      "cell_type": "code",
      "execution_count": 56,
      "metadata": {
        "id": "Sv9AHDsc1CDW"
      },
      "outputs": [],
      "source": [
        "numIters = 500\n",
        "regType = 'l2'\n",
        "includeIntercept = True\n",
        "\n",
        "# Initialize variables using values from initial model training\n",
        "bestModel = None\n",
        "bestLogLoss = 1e10"
      ]
    },
    {
      "cell_type": "code",
      "execution_count": 57,
      "metadata": {
        "id": "cbZl7j6t1CDW",
        "colab": {
          "base_uri": "https://localhost:8080/"
        },
        "outputId": "7f1e1cc9-b128-4649-f81e-b40d7307065b"
      },
      "outputs": [
        {
          "output_type": "stream",
          "name": "stderr",
          "text": [
            "/usr/local/lib/python3.7/dist-packages/pyspark/mllib/classification.py:327: FutureWarning: Deprecated in 2.0.0. Use ml.classification.LogisticRegression or LogisticRegressionWithLBFGS.\n",
            "  \"LogisticRegressionWithLBFGS.\", FutureWarning)\n"
          ]
        },
        {
          "output_type": "stream",
          "name": "stdout",
          "text": [
            "\tstepSize = 1.0, regParam = 1e-06: logloss = 0.475\n",
            "\tstepSize = 1.0, regParam = 1e-03: logloss = 0.475\n",
            "\tstepSize = 10.0, regParam = 1e-06: logloss = 0.451\n",
            "\tstepSize = 10.0, regParam = 1e-03: logloss = 0.453\n",
            "Hashed Features Validation Logloss:\n",
            "\tBaseline = 0.527\n",
            "\tLogReg = 0.451\n"
          ]
        }
      ],
      "source": [
        "# TODO: Replace <FILL IN> with appropriate code\n",
        "stepSizes = [1,10]\n",
        "regParams = [1e-6,1e-3]\n",
        "for stepSize in stepSizes:\n",
        "    for regParam in regParams:\n",
        "        model = (LogisticRegressionWithSGD\n",
        "                 .train(hashTrainData,iterations=numIters,step=stepSize,regParam=regParam,regType=regType,intercept=includeIntercept))\n",
        "        logLossVa = evaluateResults(model, hashValidationData)\n",
        "        print ('\\tstepSize = {0:.1f}, regParam = {1:.0e}: logloss = {2:.3f}'\n",
        "               .format(stepSize, regParam, logLossVa))\n",
        "        if (logLossVa < bestLogLoss):\n",
        "            bestModel = model\n",
        "            bestLogLoss = logLossVa\n",
        "\n",
        "print ('Hashed Features Validation Logloss:\\n\\tBaseline = {0:.3f}\\n\\tLogReg = {1:.3f}'\n",
        "       .format(logLossValBase, bestLogLoss))"
      ]
    },
    {
      "cell_type": "markdown",
      "metadata": {
        "id": "Q3E-uUmm1CDX"
      },
      "source": [
        "#### **Visualization 3: Hyperparameter heat map**\n",
        "#### We will now perform a visualization of an extensive hyperparameter search.  Specifically, we will create a heat map where the brighter colors correspond to lower values of `logLoss`.\n",
        "#### The search was run using six step sizes and six values for regularization, which required the training of thirty-six separate models.  We have included the results below, but omitted the actual search to save time."
      ]
    },
    {
      "cell_type": "code",
      "execution_count": 58,
      "metadata": {
        "id": "tqi0ouMG1CDX",
        "colab": {
          "base_uri": "https://localhost:8080/",
          "height": 442
        },
        "outputId": "2222ccd5-baab-4b54-db30-aec2758f5256"
      },
      "outputs": [
        {
          "output_type": "display_data",
          "data": {
            "text/plain": [
              "<Figure size 576x504 with 1 Axes>"
            ],
            "image/png": "[encoded data removed]"
          },
          "metadata": {}
        }
      ],
      "source": [
        "from matplotlib.colors import LinearSegmentedColormap\n",
        "\n",
        "# Saved parameters and results.  Eliminate the time required to run 36 models\n",
        "stepSizes = [3, 6, 9, 12, 15, 18]\n",
        "regParams = [1e-7, 1e-6, 1e-5, 1e-4, 1e-3, 1e-2]\n",
        "logLoss = np.array([[ 0.45808431,  0.45808493,  0.45809113,  0.45815333,  0.45879221,  0.46556321],\n",
        "                    [ 0.45188196,  0.45188306,  0.4518941,   0.4520051,   0.45316284,  0.46396068],\n",
        "                    [ 0.44886478,  0.44886613,  0.44887974,  0.44902096,  0.4505614,   0.46371153],\n",
        "                    [ 0.44706645,  0.4470698,   0.44708102,  0.44724251,  0.44905525,  0.46366507],\n",
        "                    [ 0.44588848,  0.44589365,  0.44590568,  0.44606631,  0.44807106,  0.46365589],\n",
        "                    [ 0.44508948,  0.44509474,  0.44510274,  0.44525007,  0.44738317,  0.46365405]])\n",
        "\n",
        "numRows, numCols = len(stepSizes), len(regParams)\n",
        "logLoss = np.array(logLoss)\n",
        "logLoss.shape = (numRows, numCols)\n",
        "\n",
        "fig, ax = preparePlot(np.arange(0, numCols, 1), np.arange(0, numRows, 1), figsize=(8, 7),\n",
        "                      hideLabels=True, gridWidth=0.)\n",
        "ax.set_xticklabels(regParams), ax.set_yticklabels(stepSizes)\n",
        "ax.set_xlabel('Regularization Parameter'), ax.set_ylabel('Step Size')\n",
        "\n",
        "colors = LinearSegmentedColormap.from_list('blue', ['#0022ff', '#000055'], gamma=.2)\n",
        "image = plt.imshow(logLoss,interpolation='nearest', aspect='auto',\n",
        "                    cmap = colors)\n",
        "pass"
      ]
    },
    {
      "cell_type": "markdown",
      "metadata": {
        "id": "cgqfVJ7o1CDX"
      },
      "source": [
        "#### ** (5e) Evaluate on the test set **\n",
        "#### Finally, evaluate the best model from Part (5d) on the test set.  Compare the resulting log loss with the baseline log loss on the test set, which can be computed in the same way that the validation log loss was computed in Part (4f)."
      ]
    },
    {
      "cell_type": "code",
      "execution_count": 59,
      "metadata": {
        "id": "2aJMyLFA1CDX",
        "colab": {
          "base_uri": "https://localhost:8080/"
        },
        "outputId": "d322f004-6866-4865-f56d-5f8ff1432dba"
      },
      "outputs": [
        {
          "output_type": "stream",
          "name": "stdout",
          "text": [
            "Hashed Features Test Log Loss:\n",
            "\tBaseline = 0.539\n",
            "\tLogReg = 0.455\n"
          ]
        }
      ],
      "source": [
        "# TODO: Replace <FILL IN> with appropriate code\n",
        "# Log loss for the best model from (5d)\n",
        "logLossTest = evaluateResults(bestModel, hashTestData)\n",
        "# Log loss for the baseline model\n",
        "logLossTestBaseline = hashTestData.map(lambda x:computeLogLoss(classOneFracTrain, x.label)).mean()\n",
        "\n",
        "print ('Hashed Features Test Log Loss:\\n\\tBaseline = {0:.3f}\\n\\tLogReg = {1:.3f}'.format(logLossTestBaseline, logLossTest))"
      ]
    },
    {
      "cell_type": "code",
      "source": [
        ""
      ],
      "metadata": {
        "id": "RCGxv9yAeAts"
      },
      "execution_count": null,
      "outputs": []
    }
  ],
  "metadata": {
    "colab": {
      "name": "ML_lab_ctr.ipynb",
      "provenance": [],
      "collapsed_sections": []
    },
    "language_info": {
      "name": "python"
    },
    "kernelspec": {
      "name": "python3",
      "display_name": "Python 3"
    }
  },
  "nbformat": 4,
  "nbformat_minor": 0
}